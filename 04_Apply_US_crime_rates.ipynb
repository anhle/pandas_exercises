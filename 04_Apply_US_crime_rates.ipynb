{
  "nbformat": 4,
  "nbformat_minor": 0,
  "metadata": {
    "anaconda-cloud": {},
    "kernelspec": {
      "display_name": "Python [default]",
      "language": "python",
      "name": "python2"
    },
    "language_info": {
      "codemirror_mode": {
        "name": "ipython",
        "version": 2
      },
      "file_extension": ".py",
      "mimetype": "text/x-python",
      "name": "python",
      "nbconvert_exporter": "python",
      "pygments_lexer": "ipython2",
      "version": "2.7.12"
    },
    "colab": {
      "name": "04_Apply_US_crime_rates.ipynb",
      "provenance": [],
      "collapsed_sections": []
    }
  },
  "cells": [
    {
      "cell_type": "markdown",
      "metadata": {
        "id": "WvLMtqqpKKmw",
        "colab_type": "text"
      },
      "source": [
        "# United States - Crime Rates - 1960 - 2014"
      ]
    },
    {
      "cell_type": "markdown",
      "metadata": {
        "id": "LFMLXIUeKKmy",
        "colab_type": "text"
      },
      "source": [
        "### Introduction:\n",
        "\n",
        "This time you will create a data \n",
        "\n",
        "Special thanks to: https://github.com/justmarkham for sharing the dataset and materials.\n",
        "\n",
        "### Step 1. Import the necessary libraries"
      ]
    },
    {
      "cell_type": "code",
      "metadata": {
        "id": "IkbRwbsGKKmy",
        "colab_type": "code",
        "colab": {}
      },
      "source": [
        "import numpy as np\n",
        "import pandas as pd"
      ],
      "execution_count": 1,
      "outputs": []
    },
    {
      "cell_type": "markdown",
      "metadata": {
        "id": "ht1o0jDnKKm3",
        "colab_type": "text"
      },
      "source": [
        "### Step 2. Import the dataset from this [address](https://raw.githubusercontent.com/guipsamora/pandas_exercises/master/04_Apply/US_Crime_Rates/US_Crime_Rates_1960_2014.csv). "
      ]
    },
    {
      "cell_type": "markdown",
      "metadata": {
        "id": "yDCz6xhoKKm4",
        "colab_type": "text"
      },
      "source": [
        "### Step 3. Assign it to a variable called crime."
      ]
    },
    {
      "cell_type": "code",
      "metadata": {
        "id": "Jyx4RJ8qKKm4",
        "colab_type": "code",
        "colab": {}
      },
      "source": [
        "url = \"https://raw.githubusercontent.com/guipsamora/pandas_exercises/master/04_Apply/US_Crime_Rates/US_Crime_Rates_1960_2014.csv\"\n",
        "crime = pd.read_csv(url)\n",
        "crime.head()"
      ],
      "execution_count": null,
      "outputs": []
    },
    {
      "cell_type": "markdown",
      "metadata": {
        "id": "qKfGloUJKKm8",
        "colab_type": "text"
      },
      "source": [
        "### Step 4. What is the type of the columns?"
      ]
    },
    {
      "cell_type": "code",
      "metadata": {
        "id": "gT0kMEzKKKm9",
        "colab_type": "code",
        "colab": {}
      },
      "source": [
        "crime.info()"
      ],
      "execution_count": null,
      "outputs": []
    },
    {
      "cell_type": "markdown",
      "metadata": {
        "id": "iewB0T3IKKm_",
        "colab_type": "text"
      },
      "source": [
        "##### Have you noticed that the type of Year is int64. But pandas has a different type to work with Time Series. Let's see it now.\n",
        "\n",
        "### Step 5. Convert the type of the column Year to datetime64"
      ]
    },
    {
      "cell_type": "code",
      "metadata": {
        "id": "aEtaboIfKKnA",
        "colab_type": "code",
        "colab": {
          "base_uri": "https://localhost:8080/",
          "height": 336
        },
        "outputId": "b4748179-fd86-405c-b53d-7978bcd4e90b"
      },
      "source": [
        "# pd.to_datetime(crime)\n",
        "crime['dt_Year'] = pd.to_datetime(crime.Year, format='%Y')\n",
        "crime.info()"
      ],
      "execution_count": 30,
      "outputs": [
        {
          "output_type": "stream",
          "text": [
            "<class 'pandas.core.frame.DataFrame'>\n",
            "RangeIndex: 55 entries, 0 to 54\n",
            "Data columns (total 13 columns):\n",
            "Year                  55 non-null int64\n",
            "Population            55 non-null int64\n",
            "Total                 55 non-null int64\n",
            "Violent               55 non-null int64\n",
            "Property              55 non-null int64\n",
            "Murder                55 non-null int64\n",
            "Forcible_Rape         55 non-null int64\n",
            "Robbery               55 non-null int64\n",
            "Aggravated_assault    55 non-null int64\n",
            "Burglary              55 non-null int64\n",
            "Larceny_Theft         55 non-null int64\n",
            "Vehicle_Theft         55 non-null int64\n",
            "dt_Year               55 non-null datetime64[ns]\n",
            "dtypes: datetime64[ns](1), int64(12)\n",
            "memory usage: 5.7 KB\n"
          ],
          "name": "stdout"
        }
      ]
    },
    {
      "cell_type": "markdown",
      "metadata": {
        "id": "ECFIbsrgKKnD",
        "colab_type": "text"
      },
      "source": [
        "### Step 6. Set the Year column as the index of the dataframe"
      ]
    },
    {
      "cell_type": "code",
      "metadata": {
        "id": "1Z0phr5hWCoE",
        "colab_type": "code",
        "colab": {}
      },
      "source": [
        "crime1 = crime.copy()"
      ],
      "execution_count": 50,
      "outputs": []
    },
    {
      "cell_type": "code",
      "metadata": {
        "id": "m62TyK0fWc_6",
        "colab_type": "code",
        "colab": {
          "base_uri": "https://localhost:8080/",
          "height": 247
        },
        "outputId": "bfae972e-5e98-4da8-f606-dac96916979b"
      },
      "source": [
        "crime1.set_index('Year',inplace=True)\n",
        "crime1.head()"
      ],
      "execution_count": 51,
      "outputs": [
        {
          "output_type": "execute_result",
          "data": {
            "text/plain": [
              "      Population  Violent  Property  Murder  Forcible_Rape  Robbery  \\\n",
              "Year                                                                  \n",
              "1960   179323175   288460   3095700    9110          17190   107840   \n",
              "1961   182992000   289390   3198600    8740          17220   106670   \n",
              "1962   185771000   301510   3450700    8530          17550   110860   \n",
              "1963   188483000   316970   3792500    8640          17650   116470   \n",
              "1964   191141000   364220   4200400    9360          21420   130390   \n",
              "\n",
              "      Aggravated_assault  Burglary  Larceny_Theft  Vehicle_Theft  Decade  \n",
              "Year                                                                      \n",
              "1960              154320    912100        1855400         328200     196  \n",
              "1961              156760    949600        1913000         336000     196  \n",
              "1962              164570    994300        2089600         366800     196  \n",
              "1963              174210   1086400        2297800         408300     196  \n",
              "1964              203050   1213200        2514400         472800     196  "
            ],
            "text/html": [
              "<div>\n",
              "<style scoped>\n",
              "    .dataframe tbody tr th:only-of-type {\n",
              "        vertical-align: middle;\n",
              "    }\n",
              "\n",
              "    .dataframe tbody tr th {\n",
              "        vertical-align: top;\n",
              "    }\n",
              "\n",
              "    .dataframe thead th {\n",
              "        text-align: right;\n",
              "    }\n",
              "</style>\n",
              "<table border=\"1\" class=\"dataframe\">\n",
              "  <thead>\n",
              "    <tr style=\"text-align: right;\">\n",
              "      <th></th>\n",
              "      <th>Population</th>\n",
              "      <th>Violent</th>\n",
              "      <th>Property</th>\n",
              "      <th>Murder</th>\n",
              "      <th>Forcible_Rape</th>\n",
              "      <th>Robbery</th>\n",
              "      <th>Aggravated_assault</th>\n",
              "      <th>Burglary</th>\n",
              "      <th>Larceny_Theft</th>\n",
              "      <th>Vehicle_Theft</th>\n",
              "      <th>Decade</th>\n",
              "    </tr>\n",
              "    <tr>\n",
              "      <th>Year</th>\n",
              "      <th></th>\n",
              "      <th></th>\n",
              "      <th></th>\n",
              "      <th></th>\n",
              "      <th></th>\n",
              "      <th></th>\n",
              "      <th></th>\n",
              "      <th></th>\n",
              "      <th></th>\n",
              "      <th></th>\n",
              "      <th></th>\n",
              "    </tr>\n",
              "  </thead>\n",
              "  <tbody>\n",
              "    <tr>\n",
              "      <th>1960</th>\n",
              "      <td>179323175</td>\n",
              "      <td>288460</td>\n",
              "      <td>3095700</td>\n",
              "      <td>9110</td>\n",
              "      <td>17190</td>\n",
              "      <td>107840</td>\n",
              "      <td>154320</td>\n",
              "      <td>912100</td>\n",
              "      <td>1855400</td>\n",
              "      <td>328200</td>\n",
              "      <td>196</td>\n",
              "    </tr>\n",
              "    <tr>\n",
              "      <th>1961</th>\n",
              "      <td>182992000</td>\n",
              "      <td>289390</td>\n",
              "      <td>3198600</td>\n",
              "      <td>8740</td>\n",
              "      <td>17220</td>\n",
              "      <td>106670</td>\n",
              "      <td>156760</td>\n",
              "      <td>949600</td>\n",
              "      <td>1913000</td>\n",
              "      <td>336000</td>\n",
              "      <td>196</td>\n",
              "    </tr>\n",
              "    <tr>\n",
              "      <th>1962</th>\n",
              "      <td>185771000</td>\n",
              "      <td>301510</td>\n",
              "      <td>3450700</td>\n",
              "      <td>8530</td>\n",
              "      <td>17550</td>\n",
              "      <td>110860</td>\n",
              "      <td>164570</td>\n",
              "      <td>994300</td>\n",
              "      <td>2089600</td>\n",
              "      <td>366800</td>\n",
              "      <td>196</td>\n",
              "    </tr>\n",
              "    <tr>\n",
              "      <th>1963</th>\n",
              "      <td>188483000</td>\n",
              "      <td>316970</td>\n",
              "      <td>3792500</td>\n",
              "      <td>8640</td>\n",
              "      <td>17650</td>\n",
              "      <td>116470</td>\n",
              "      <td>174210</td>\n",
              "      <td>1086400</td>\n",
              "      <td>2297800</td>\n",
              "      <td>408300</td>\n",
              "      <td>196</td>\n",
              "    </tr>\n",
              "    <tr>\n",
              "      <th>1964</th>\n",
              "      <td>191141000</td>\n",
              "      <td>364220</td>\n",
              "      <td>4200400</td>\n",
              "      <td>9360</td>\n",
              "      <td>21420</td>\n",
              "      <td>130390</td>\n",
              "      <td>203050</td>\n",
              "      <td>1213200</td>\n",
              "      <td>2514400</td>\n",
              "      <td>472800</td>\n",
              "      <td>196</td>\n",
              "    </tr>\n",
              "  </tbody>\n",
              "</table>\n",
              "</div>"
            ]
          },
          "metadata": {
            "tags": []
          },
          "execution_count": 51
        }
      ]
    },
    {
      "cell_type": "code",
      "metadata": {
        "id": "KvvxVJ05KKnD",
        "colab_type": "code",
        "colab": {
          "base_uri": "https://localhost:8080/",
          "height": 331
        },
        "outputId": "060b42fc-f184-4dca-cc00-cd0edf3a7f4b"
      },
      "source": [
        "crime.set_index('dt_Year', inplace = True)\n",
        "crime.head()"
      ],
      "execution_count": 31,
      "outputs": [
        {
          "output_type": "execute_result",
          "data": {
            "text/plain": [
              "            Year  Population    Total  Violent  Property  Murder  \\\n",
              "dt_Year                                                            \n",
              "1960-01-01  1960   179323175  3384200   288460   3095700    9110   \n",
              "1961-01-01  1961   182992000  3488000   289390   3198600    8740   \n",
              "1962-01-01  1962   185771000  3752200   301510   3450700    8530   \n",
              "1963-01-01  1963   188483000  4109500   316970   3792500    8640   \n",
              "1964-01-01  1964   191141000  4564600   364220   4200400    9360   \n",
              "\n",
              "            Forcible_Rape  Robbery  Aggravated_assault  Burglary  \\\n",
              "dt_Year                                                            \n",
              "1960-01-01          17190   107840              154320    912100   \n",
              "1961-01-01          17220   106670              156760    949600   \n",
              "1962-01-01          17550   110860              164570    994300   \n",
              "1963-01-01          17650   116470              174210   1086400   \n",
              "1964-01-01          21420   130390              203050   1213200   \n",
              "\n",
              "            Larceny_Theft  Vehicle_Theft  \n",
              "dt_Year                                   \n",
              "1960-01-01        1855400         328200  \n",
              "1961-01-01        1913000         336000  \n",
              "1962-01-01        2089600         366800  \n",
              "1963-01-01        2297800         408300  \n",
              "1964-01-01        2514400         472800  "
            ],
            "text/html": [
              "<div>\n",
              "<style scoped>\n",
              "    .dataframe tbody tr th:only-of-type {\n",
              "        vertical-align: middle;\n",
              "    }\n",
              "\n",
              "    .dataframe tbody tr th {\n",
              "        vertical-align: top;\n",
              "    }\n",
              "\n",
              "    .dataframe thead th {\n",
              "        text-align: right;\n",
              "    }\n",
              "</style>\n",
              "<table border=\"1\" class=\"dataframe\">\n",
              "  <thead>\n",
              "    <tr style=\"text-align: right;\">\n",
              "      <th></th>\n",
              "      <th>Year</th>\n",
              "      <th>Population</th>\n",
              "      <th>Total</th>\n",
              "      <th>Violent</th>\n",
              "      <th>Property</th>\n",
              "      <th>Murder</th>\n",
              "      <th>Forcible_Rape</th>\n",
              "      <th>Robbery</th>\n",
              "      <th>Aggravated_assault</th>\n",
              "      <th>Burglary</th>\n",
              "      <th>Larceny_Theft</th>\n",
              "      <th>Vehicle_Theft</th>\n",
              "    </tr>\n",
              "    <tr>\n",
              "      <th>dt_Year</th>\n",
              "      <th></th>\n",
              "      <th></th>\n",
              "      <th></th>\n",
              "      <th></th>\n",
              "      <th></th>\n",
              "      <th></th>\n",
              "      <th></th>\n",
              "      <th></th>\n",
              "      <th></th>\n",
              "      <th></th>\n",
              "      <th></th>\n",
              "      <th></th>\n",
              "    </tr>\n",
              "  </thead>\n",
              "  <tbody>\n",
              "    <tr>\n",
              "      <th>1960-01-01</th>\n",
              "      <td>1960</td>\n",
              "      <td>179323175</td>\n",
              "      <td>3384200</td>\n",
              "      <td>288460</td>\n",
              "      <td>3095700</td>\n",
              "      <td>9110</td>\n",
              "      <td>17190</td>\n",
              "      <td>107840</td>\n",
              "      <td>154320</td>\n",
              "      <td>912100</td>\n",
              "      <td>1855400</td>\n",
              "      <td>328200</td>\n",
              "    </tr>\n",
              "    <tr>\n",
              "      <th>1961-01-01</th>\n",
              "      <td>1961</td>\n",
              "      <td>182992000</td>\n",
              "      <td>3488000</td>\n",
              "      <td>289390</td>\n",
              "      <td>3198600</td>\n",
              "      <td>8740</td>\n",
              "      <td>17220</td>\n",
              "      <td>106670</td>\n",
              "      <td>156760</td>\n",
              "      <td>949600</td>\n",
              "      <td>1913000</td>\n",
              "      <td>336000</td>\n",
              "    </tr>\n",
              "    <tr>\n",
              "      <th>1962-01-01</th>\n",
              "      <td>1962</td>\n",
              "      <td>185771000</td>\n",
              "      <td>3752200</td>\n",
              "      <td>301510</td>\n",
              "      <td>3450700</td>\n",
              "      <td>8530</td>\n",
              "      <td>17550</td>\n",
              "      <td>110860</td>\n",
              "      <td>164570</td>\n",
              "      <td>994300</td>\n",
              "      <td>2089600</td>\n",
              "      <td>366800</td>\n",
              "    </tr>\n",
              "    <tr>\n",
              "      <th>1963-01-01</th>\n",
              "      <td>1963</td>\n",
              "      <td>188483000</td>\n",
              "      <td>4109500</td>\n",
              "      <td>316970</td>\n",
              "      <td>3792500</td>\n",
              "      <td>8640</td>\n",
              "      <td>17650</td>\n",
              "      <td>116470</td>\n",
              "      <td>174210</td>\n",
              "      <td>1086400</td>\n",
              "      <td>2297800</td>\n",
              "      <td>408300</td>\n",
              "    </tr>\n",
              "    <tr>\n",
              "      <th>1964-01-01</th>\n",
              "      <td>1964</td>\n",
              "      <td>191141000</td>\n",
              "      <td>4564600</td>\n",
              "      <td>364220</td>\n",
              "      <td>4200400</td>\n",
              "      <td>9360</td>\n",
              "      <td>21420</td>\n",
              "      <td>130390</td>\n",
              "      <td>203050</td>\n",
              "      <td>1213200</td>\n",
              "      <td>2514400</td>\n",
              "      <td>472800</td>\n",
              "    </tr>\n",
              "  </tbody>\n",
              "</table>\n",
              "</div>"
            ]
          },
          "metadata": {
            "tags": []
          },
          "execution_count": 31
        }
      ]
    },
    {
      "cell_type": "markdown",
      "metadata": {
        "id": "jsMfyESqKKnG",
        "colab_type": "text"
      },
      "source": [
        "### Step 7. Delete the Total column"
      ]
    },
    {
      "cell_type": "code",
      "metadata": {
        "id": "vvTdZeHKKKnG",
        "colab_type": "code",
        "colab": {}
      },
      "source": [
        "del crime['Total']\n",
        "crime.head()"
      ],
      "execution_count": null,
      "outputs": []
    },
    {
      "cell_type": "markdown",
      "metadata": {
        "id": "DWLw8FXAKKnJ",
        "colab_type": "text"
      },
      "source": [
        "### Step 8. Group the year by decades and sum the values\n",
        "\n",
        "#### Pay attention to the Population column number, summing this column is a mistake"
      ]
    },
    {
      "cell_type": "code",
      "metadata": {
        "id": "GAd5myy0OOuA",
        "colab_type": "code",
        "colab": {}
      },
      "source": [
        "crime['Decade'] = crime.Year//10\n",
        "crime.head"
      ],
      "execution_count": null,
      "outputs": []
    },
    {
      "cell_type": "code",
      "metadata": {
        "id": "2MFm2sMKS2b6",
        "colab_type": "code",
        "colab": {
          "base_uri": "https://localhost:8080/",
          "height": 277
        },
        "outputId": "a3c54552-6d4f-457f-8366-86137ad06065"
      },
      "source": [
        "cols = crime.loc[:,'Population':'Vehicle_Theft']\n",
        "agg = {c : 'sum' for c in cols}\n",
        "agg['Population'] = 'last'\n",
        "gb=crime.groupby('Decade').agg(agg)\n",
        "gb"
      ],
      "execution_count": 57,
      "outputs": [
        {
          "output_type": "execute_result",
          "data": {
            "text/plain": [
              "        Aggravated_assault  Murder  Larceny_Theft  Vehicle_Theft  \\\n",
              "Decade                                                             \n",
              "196                2158520  106180       26547700        5292100   \n",
              "197                4702120  192230       53157800        9739900   \n",
              "198                7619130  206439       72040253       11935411   \n",
              "199               10568963  211664       77679366       14624418   \n",
              "200                8652124  163068       67970291       11412834   \n",
              "201                3764142   72867       30401698        3569080   \n",
              "\n",
              "        Forcible_Rape   Violent  Robbery  Burglary   Property  Population  \n",
              "Decade                                                                     \n",
              "196            236720   4134930  1633510  13321100   45160900   201385000  \n",
              "197            554570   9607930  4159020  28486000   91383800   220099000  \n",
              "198            865639  14074328  5383109  33073494  117048900   248239000  \n",
              "199            998827  17527048  5748930  26750015  119053499   272690813  \n",
              "200            922499  13968056  4230366  21565176  100944369   307006550  \n",
              "201            421059   6072017  1749809  10125170   44095950   318857056  "
            ],
            "text/html": [
              "<div>\n",
              "<style scoped>\n",
              "    .dataframe tbody tr th:only-of-type {\n",
              "        vertical-align: middle;\n",
              "    }\n",
              "\n",
              "    .dataframe tbody tr th {\n",
              "        vertical-align: top;\n",
              "    }\n",
              "\n",
              "    .dataframe thead th {\n",
              "        text-align: right;\n",
              "    }\n",
              "</style>\n",
              "<table border=\"1\" class=\"dataframe\">\n",
              "  <thead>\n",
              "    <tr style=\"text-align: right;\">\n",
              "      <th></th>\n",
              "      <th>Aggravated_assault</th>\n",
              "      <th>Murder</th>\n",
              "      <th>Larceny_Theft</th>\n",
              "      <th>Vehicle_Theft</th>\n",
              "      <th>Forcible_Rape</th>\n",
              "      <th>Violent</th>\n",
              "      <th>Robbery</th>\n",
              "      <th>Burglary</th>\n",
              "      <th>Property</th>\n",
              "      <th>Population</th>\n",
              "    </tr>\n",
              "    <tr>\n",
              "      <th>Decade</th>\n",
              "      <th></th>\n",
              "      <th></th>\n",
              "      <th></th>\n",
              "      <th></th>\n",
              "      <th></th>\n",
              "      <th></th>\n",
              "      <th></th>\n",
              "      <th></th>\n",
              "      <th></th>\n",
              "      <th></th>\n",
              "    </tr>\n",
              "  </thead>\n",
              "  <tbody>\n",
              "    <tr>\n",
              "      <th>196</th>\n",
              "      <td>2158520</td>\n",
              "      <td>106180</td>\n",
              "      <td>26547700</td>\n",
              "      <td>5292100</td>\n",
              "      <td>236720</td>\n",
              "      <td>4134930</td>\n",
              "      <td>1633510</td>\n",
              "      <td>13321100</td>\n",
              "      <td>45160900</td>\n",
              "      <td>201385000</td>\n",
              "    </tr>\n",
              "    <tr>\n",
              "      <th>197</th>\n",
              "      <td>4702120</td>\n",
              "      <td>192230</td>\n",
              "      <td>53157800</td>\n",
              "      <td>9739900</td>\n",
              "      <td>554570</td>\n",
              "      <td>9607930</td>\n",
              "      <td>4159020</td>\n",
              "      <td>28486000</td>\n",
              "      <td>91383800</td>\n",
              "      <td>220099000</td>\n",
              "    </tr>\n",
              "    <tr>\n",
              "      <th>198</th>\n",
              "      <td>7619130</td>\n",
              "      <td>206439</td>\n",
              "      <td>72040253</td>\n",
              "      <td>11935411</td>\n",
              "      <td>865639</td>\n",
              "      <td>14074328</td>\n",
              "      <td>5383109</td>\n",
              "      <td>33073494</td>\n",
              "      <td>117048900</td>\n",
              "      <td>248239000</td>\n",
              "    </tr>\n",
              "    <tr>\n",
              "      <th>199</th>\n",
              "      <td>10568963</td>\n",
              "      <td>211664</td>\n",
              "      <td>77679366</td>\n",
              "      <td>14624418</td>\n",
              "      <td>998827</td>\n",
              "      <td>17527048</td>\n",
              "      <td>5748930</td>\n",
              "      <td>26750015</td>\n",
              "      <td>119053499</td>\n",
              "      <td>272690813</td>\n",
              "    </tr>\n",
              "    <tr>\n",
              "      <th>200</th>\n",
              "      <td>8652124</td>\n",
              "      <td>163068</td>\n",
              "      <td>67970291</td>\n",
              "      <td>11412834</td>\n",
              "      <td>922499</td>\n",
              "      <td>13968056</td>\n",
              "      <td>4230366</td>\n",
              "      <td>21565176</td>\n",
              "      <td>100944369</td>\n",
              "      <td>307006550</td>\n",
              "    </tr>\n",
              "    <tr>\n",
              "      <th>201</th>\n",
              "      <td>3764142</td>\n",
              "      <td>72867</td>\n",
              "      <td>30401698</td>\n",
              "      <td>3569080</td>\n",
              "      <td>421059</td>\n",
              "      <td>6072017</td>\n",
              "      <td>1749809</td>\n",
              "      <td>10125170</td>\n",
              "      <td>44095950</td>\n",
              "      <td>318857056</td>\n",
              "    </tr>\n",
              "  </tbody>\n",
              "</table>\n",
              "</div>"
            ]
          },
          "metadata": {
            "tags": []
          },
          "execution_count": 57
        }
      ]
    },
    {
      "cell_type": "code",
      "metadata": {
        "scrolled": true,
        "id": "lME1hfAxKKnK",
        "colab_type": "code",
        "colab": {}
      },
      "source": [
        "# To learn more about .resample (https://pandas.pydata.org/pandas-docs/stable/generated/pandas.DataFrame.resample.html)\n",
        "# To learn more about Offset Aliases (http://pandas.pydata.org/pandas-docs/stable/timeseries.html#offset-aliases)\n",
        "\n",
        "# Uses resample to sum each decade\n",
        "crimes = crime1.resample('10AS').sum()\n",
        "\n",
        "# Uses resample to get the max value only for the \"Population\" column\n",
        "population = crime1['Population'].resample('10AS').max()\n",
        "\n",
        "# Updating the \"Population\" column\n",
        "crimes['Population'] = population\n",
        "\n",
        "crimes"
      ],
      "execution_count": null,
      "outputs": []
    },
    {
      "cell_type": "markdown",
      "metadata": {
        "id": "bI_iajvBKKnM",
        "colab_type": "text"
      },
      "source": [
        "### Step 9. What is the most dangerous decade to live in the US?"
      ]
    },
    {
      "cell_type": "code",
      "metadata": {
        "id": "72aobfwSY-UZ",
        "colab_type": "code",
        "colab": {
          "base_uri": "https://localhost:8080/",
          "height": 302
        },
        "outputId": "66c3236e-fab1-4dfa-cbfa-9423903a3018"
      },
      "source": [
        "trend=gb.loc[:,'Vehicle_Theft':'Burglary'].div(gb.Population,'rows')\n",
        "trend.plot()"
      ],
      "execution_count": 62,
      "outputs": [
        {
          "output_type": "execute_result",
          "data": {
            "text/plain": [
              "<matplotlib.axes._subplots.AxesSubplot at 0x7fceddee6950>"
            ]
          },
          "metadata": {
            "tags": []
          },
          "execution_count": 62
        },
        {
          "output_type": "display_data",
          "data": {
            "image/png": "[encoded data removed]",
            "text/plain": [
              "<Figure size 432x288 with 1 Axes>"
            ]
          },
          "metadata": {
            "tags": [],
            "needs_background": "light"
          }
        }
      ]
    },
    {
      "cell_type": "code",
      "metadata": {
        "id": "kJtFbMLtKKnN",
        "colab_type": "code",
        "colab": {
          "base_uri": "https://localhost:8080/",
          "height": 247
        },
        "outputId": "0d5e57cb-8a7a-4e2d-b487-c201a551b726"
      },
      "source": [
        "# apparently the 90s was a pretty dangerous time in the US\n",
        "crime.idxmax(0)"
      ],
      "execution_count": 46,
      "outputs": [
        {
          "output_type": "execute_result",
          "data": {
            "text/plain": [
              "Year                 2014-01-01\n",
              "Population           2014-01-01\n",
              "Violent              1992-01-01\n",
              "Property             1991-01-01\n",
              "Murder               1991-01-01\n",
              "Forcible_Rape        1992-01-01\n",
              "Robbery              1991-01-01\n",
              "Aggravated_assault   1993-01-01\n",
              "Burglary             1980-01-01\n",
              "Larceny_Theft        1991-01-01\n",
              "Vehicle_Theft        1991-01-01\n",
              "Decade               2010-01-01\n",
              "dtype: datetime64[ns]"
            ]
          },
          "metadata": {
            "tags": []
          },
          "execution_count": 46
        }
      ]
    }
  ]
}